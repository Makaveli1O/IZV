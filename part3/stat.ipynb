{
 "cells": [
  {
   "cell_type": "code",
   "execution_count": 25,
   "id": "fca08125-73a1-4f9b-b2c3-5c0a4ad0e777",
   "metadata": {},
   "outputs": [],
   "source": [
    "import numpy as np, pandas as pd\n",
    "import scipy.stats as st"
   ]
  },
  {
   "cell_type": "markdown",
   "id": "cef1b828-d541-463b-9846-7a3be8bf900f",
   "metadata": {},
   "source": [
    "### Príklad(1) (H0)\n",
    "Na silnicích první třídy se při nehodách umíralo se stejnou pravděpodobností jako dálnicích.\n",
    "### Alternatívna (H1)\n",
    "Na silnicích první třídy se při nehodách **ne**umíralo se stejnou pravděpodobností jako na dálnicích."
   ]
  },
  {
   "cell_type": "code",
   "execution_count": 45,
   "id": "5f72c57f-fc64-403d-a342-a86e4a07e6b8",
   "metadata": {},
   "outputs": [],
   "source": [
    "df = pd.read_pickle(\"accidents.pkl.gz\")\n",
    "df_orig = df.copy()\n",
    "\n",
    "df = df[[\"p36\", \"p13a\"]]"
   ]
  },
  {
   "cell_type": "markdown",
   "id": "6ddacfd4-f982-4bd9-a533-7adcbd3a6c79",
   "metadata": {},
   "source": [
    "Vytvorenie pomocných stĺpcov true/false"
   ]
  },
  {
   "cell_type": "code",
   "execution_count": 48,
   "id": "9225aece-2a15-44a7-a68f-b0842aee6e3c",
   "metadata": {},
   "outputs": [],
   "source": [
    "df = df.query(\"p36 == 1 or p36 == 0\")\n",
    "#cesty prvej triedy\n",
    "df[\"road1\"] = df['p36'] == 1 \n",
    "# vybrat dialnicu\n",
    "df[\"highway\"] = df['p36'] == 0 \n",
    "# fatalne nehody\n",
    "df[\"deadly\"] = df[\"p13a\"] > 0"
   ]
  },
  {
   "cell_type": "markdown",
   "id": "4f172561-56e2-4c20-82e0-472329aea4c4",
   "metadata": {},
   "source": [
    "Crosstabulka určí počet smrteľných nehôd na ceste prvej triedy, ostatné sú na diaľnici"
   ]
  },
  {
   "cell_type": "code",
   "execution_count": 50,
   "id": "093cd320-8fee-4293-93f2-11f061be6583",
   "metadata": {},
   "outputs": [
    {
     "data": {
      "text/html": [
       "<div>\n",
       "<style scoped>\n",
       "    .dataframe tbody tr th:only-of-type {\n",
       "        vertical-align: middle;\n",
       "    }\n",
       "\n",
       "    .dataframe tbody tr th {\n",
       "        vertical-align: top;\n",
       "    }\n",
       "\n",
       "    .dataframe thead th {\n",
       "        text-align: right;\n",
       "    }\n",
       "</style>\n",
       "<table border=\"1\" class=\"dataframe\">\n",
       "  <thead>\n",
       "    <tr style=\"text-align: right;\">\n",
       "      <th>deadly</th>\n",
       "      <th>False</th>\n",
       "      <th>True</th>\n",
       "    </tr>\n",
       "    <tr>\n",
       "      <th>road1</th>\n",
       "      <th></th>\n",
       "      <th></th>\n",
       "    </tr>\n",
       "  </thead>\n",
       "  <tbody>\n",
       "    <tr>\n",
       "      <th>False</th>\n",
       "      <td>24293</td>\n",
       "      <td>166</td>\n",
       "    </tr>\n",
       "    <tr>\n",
       "      <th>True</th>\n",
       "      <td>78618</td>\n",
       "      <td>911</td>\n",
       "    </tr>\n",
       "  </tbody>\n",
       "</table>\n",
       "</div>"
      ],
      "text/plain": [
       "deadly  False  True\n",
       "road1              \n",
       "False   24293   166\n",
       "True    78618   911"
      ]
     },
     "execution_count": 50,
     "metadata": {},
     "output_type": "execute_result"
    }
   ],
   "source": [
    "crosstab_road1 = pd.crosstab(df['road1'], df['deadly'])\n",
    "crosstab_road1"
   ]
  },
  {
   "cell_type": "markdown",
   "id": "395e713f",
   "metadata": {},
   "source": [
    "porovnanie s tabuľkou očakávaných frekvencií"
   ]
  },
  {
   "cell_type": "code",
   "execution_count": 55,
   "id": "c2186c20",
   "metadata": {},
   "outputs": [
    {
     "data": {
      "text/plain": [
       "array([[24205.67901104,   253.32098896],\n",
       "       [78705.32098896,   823.67901104]])"
      ]
     },
     "execution_count": 55,
     "metadata": {},
     "output_type": "execute_result"
    }
   ],
   "source": [
    "stat, p_value, dof, expected = st.chi2_contingency(crosstab_road1)\n",
    "expected"
   ]
  },
  {
   "cell_type": "markdown",
   "id": "52b9d53a-1d4f-4dfc-9f54-cb0d7c726994",
   "metadata": {},
   "source": [
    "Chi kvadrant test pre hypotézu"
   ]
  },
  {
   "cell_type": "code",
   "execution_count": 101,
   "id": "7a701437-0b46-444b-8173-6d0ea754cda7",
   "metadata": {},
   "outputs": [
    {
     "name": "stdout",
     "output_type": "stream",
     "text": [
      "Hypotéza 'H0' bola zamietnutá. Platí 'H1'\n",
      "P hodnota: 3.6067450279444316e-10\n"
     ]
    }
   ],
   "source": [
    "prob = 0.95\n",
    "critical = st.chi2.ppf(prob, dof)\n",
    "if abs(stat) < critical:\n",
    "\tprint(\"Hypotéza 'H0' nebola zamietnutá platí 'H1'\")\n",
    "else:\n",
    "\tprint(\"Hypotéza 'H0' bola zamietnutá. Platí 'H1'\")\n",
    "print(\"P hodnota: \" + str(p_value))"
   ]
  },
  {
   "cell_type": "markdown",
   "id": "dde43cb3-982f-4e67-9150-f0b23ab3d079",
   "metadata": {},
   "source": [
    "Platí H1 čo znamená že s pravdepodobnosťou 95% sa na cestách 1. triedy a na dialniciach neumieralo s rovnakou pravdepodobnosťou."
   ]
  },
  {
   "cell_type": "markdown",
   "id": "d031bc9b-3be3-430e-a517-9675a04720ff",
   "metadata": {},
   "source": [
    "### Príklad(2) (H0)\n",
    "Při nehodách vozidel značky Škoda je škoda na vozidle nižší než při nehodách vozidel Audi.\n",
    "### Alternatívna (H1)\n",
    "Při nehodách vozidel značky Škoda je škoda na vozidle **stejná nebo vyšší** než při nehodách vozidel Audi."
   ]
  },
  {
   "cell_type": "markdown",
   "id": "68b63a92",
   "metadata": {},
   "source": [
    "potrebné časti tabuľky"
   ]
  },
  {
   "cell_type": "code",
   "execution_count": 59,
   "id": "a2960857",
   "metadata": {},
   "outputs": [],
   "source": [
    "df = df_orig.copy()\n",
    "df = df[[\"p45a\",\"p53\"]]"
   ]
  },
  {
   "cell_type": "markdown",
   "id": "cf06059f",
   "metadata": {},
   "source": [
    "mediány a priemery pre vozy"
   ]
  },
  {
   "cell_type": "code",
   "execution_count": 87,
   "id": "66ea1527",
   "metadata": {},
   "outputs": [
    {
     "name": "stdout",
     "output_type": "stream",
     "text": [
      "medián audi: 300.0\n",
      "medián škoda: 200.0\n"
     ]
    }
   ],
   "source": [
    "medians = df.groupby('p45a')['p53'].median()\n",
    "means = df.groupby('p45a')['p53'].mean()\n",
    "audi_median = medians[2]\n",
    "skoda_median = medians[39]\n",
    "audi_average = means[2]\n",
    "skoda_average = means[39]\n",
    "print(\"medián audi: \" + str(audi_median))\n",
    "print(\"medián škoda: \" + str(skoda_median))"
   ]
  },
  {
   "cell_type": "markdown",
   "id": "316c8318",
   "metadata": {},
   "source": [
    "stredná hodnota nám naznačuje že obvyklé škody na audi sú vyššie\n"
   ]
  },
  {
   "cell_type": "markdown",
   "id": "678460fc",
   "metadata": {},
   "source": [
    "**Aproximácia Alexandra-Governa** testuje rovnosť k nezávislých priemerov zoči-voči heterogenite rozptylu."
   ]
  },
  {
   "cell_type": "code",
   "execution_count": 92,
   "id": "9244c102-a432-4c1e-90e2-1d96441a7b1a",
   "metadata": {},
   "outputs": [
    {
     "data": {
      "text/plain": [
       "AlexanderGovernResult(statistic=545.472551102053, pvalue=1.215910364472692e-120)"
      ]
     },
     "execution_count": 92,
     "metadata": {},
     "output_type": "execute_result"
    }
   ],
   "source": [
    "audi = df['p53'].where(df['p45a']==2).dropna().tolist()\n",
    "skoda = df['p53'].where(df['p45a']==39).dropna().tolist()\n",
    "\n",
    "p = st.alexandergovern(audi, skoda)\n",
    "p"
   ]
  },
  {
   "cell_type": "markdown",
   "id": "bdf7ece0",
   "metadata": {},
   "source": [
    "P hodnota vyšla výrazne spadá výrazne pod hladinu 0.05 čo znamená že zamietame hypotézu **H0** a platí **H1**"
   ]
  },
  {
   "cell_type": "markdown",
   "id": "9bdb7215",
   "metadata": {},
   "source": [
    "**statistics = 545.472551102053** poukazuje na veľký rozptyl hodnôt"
   ]
  }
 ],
 "metadata": {
  "kernelspec": {
   "display_name": "Python 3 (ipykernel)",
   "language": "python",
   "name": "python3"
  },
  "language_info": {
   "codemirror_mode": {
    "name": "ipython",
    "version": 3
   },
   "file_extension": ".py",
   "mimetype": "text/x-python",
   "name": "python",
   "nbconvert_exporter": "python",
   "pygments_lexer": "ipython3",
   "version": "3.9.7"
  }
 },
 "nbformat": 4,
 "nbformat_minor": 5
}
